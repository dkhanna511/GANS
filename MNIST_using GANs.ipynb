{
 "cells": [
  {
   "cell_type": "code",
   "execution_count": 1,
   "metadata": {},
   "outputs": [],
   "source": [
    "import tensorflow as tf\n",
    "import numpy as np\n",
    "import matplotlib.pyplot as plt\n",
    "%matplotlib inline\n"
   ]
  },
  {
   "cell_type": "code",
   "execution_count": 2,
   "metadata": {},
   "outputs": [],
   "source": [
    "from tensorflow.examples.tutorials .mnist import input_data"
   ]
  },
  {
   "cell_type": "code",
   "execution_count": 3,
   "metadata": {},
   "outputs": [
    {
     "name": "stdout",
     "output_type": "stream",
     "text": [
      "WARNING:tensorflow:From <ipython-input-3-8fff32bca56b>:1: read_data_sets (from tensorflow.contrib.learn.python.learn.datasets.mnist) is deprecated and will be removed in a future version.\n",
      "Instructions for updating:\n",
      "Please use alternatives such as official/mnist/dataset.py from tensorflow/models.\n",
      "WARNING:tensorflow:From /home/dheeraj/.local/lib/python3.5/site-packages/tensorflow/contrib/learn/python/learn/datasets/mnist.py:260: maybe_download (from tensorflow.contrib.learn.python.learn.datasets.base) is deprecated and will be removed in a future version.\n",
      "Instructions for updating:\n",
      "Please write your own downloading logic.\n",
      "WARNING:tensorflow:From /home/dheeraj/.local/lib/python3.5/site-packages/tensorflow/contrib/learn/python/learn/datasets/mnist.py:262: extract_images (from tensorflow.contrib.learn.python.learn.datasets.mnist) is deprecated and will be removed in a future version.\n",
      "Instructions for updating:\n",
      "Please use tf.data to implement this functionality.\n",
      "Extracting MNIST_data/train-images-idx3-ubyte.gz\n",
      "WARNING:tensorflow:From /home/dheeraj/.local/lib/python3.5/site-packages/tensorflow/contrib/learn/python/learn/datasets/mnist.py:267: extract_labels (from tensorflow.contrib.learn.python.learn.datasets.mnist) is deprecated and will be removed in a future version.\n",
      "Instructions for updating:\n",
      "Please use tf.data to implement this functionality.\n",
      "Extracting MNIST_data/train-labels-idx1-ubyte.gz\n",
      "WARNING:tensorflow:From /home/dheeraj/.local/lib/python3.5/site-packages/tensorflow/contrib/learn/python/learn/datasets/mnist.py:110: dense_to_one_hot (from tensorflow.contrib.learn.python.learn.datasets.mnist) is deprecated and will be removed in a future version.\n",
      "Instructions for updating:\n",
      "Please use tf.one_hot on tensors.\n",
      "Extracting MNIST_data/t10k-images-idx3-ubyte.gz\n",
      "Extracting MNIST_data/t10k-labels-idx1-ubyte.gz\n",
      "WARNING:tensorflow:From /home/dheeraj/.local/lib/python3.5/site-packages/tensorflow/contrib/learn/python/learn/datasets/mnist.py:290: DataSet.__init__ (from tensorflow.contrib.learn.python.learn.datasets.mnist) is deprecated and will be removed in a future version.\n",
      "Instructions for updating:\n",
      "Please use alternatives such as official/mnist/dataset.py from tensorflow/models.\n"
     ]
    }
   ],
   "source": [
    "mnist=input_data.read_data_sets(\"MNIST_data/\", one_hot=True)"
   ]
  },
  {
   "cell_type": "code",
   "execution_count": 4,
   "metadata": {
    "scrolled": true
   },
   "outputs": [
    {
     "data": {
      "text/plain": [
       "<matplotlib.image.AxesImage at 0x7f2aa8fe5b38>"
      ]
     },
     "execution_count": 4,
     "metadata": {},
     "output_type": "execute_result"
    },
    {
     "data": {
      "image/png": "[encoded data removed]",
      "text/plain": [
       "<Figure size 432x288 with 1 Axes>"
      ]
     },
     "metadata": {
      "needs_background": "light"
     },
     "output_type": "display_data"
    }
   ],
   "source": [
    "plt.imshow(mnist.train.images[12].reshape(28,28) , cmap=\"Greys\")"
   ]
  },
  {
   "cell_type": "markdown",
   "metadata": {},
   "source": [
    "## Building out the networks"
   ]
  },
  {
   "cell_type": "markdown",
   "metadata": {},
   "source": [
    "### Generator network"
   ]
  },
  {
   "cell_type": "code",
   "execution_count": 5,
   "metadata": {},
   "outputs": [],
   "source": [
    "def generator(z, reuse=None):\n",
    "    with tf.variable_scope('generator', reuse=tf.AUTO_REUSE):\n",
    "        hidden1=tf.layers.dense(inputs=z, units=128)\n",
    "\n",
    "        # now applying leaky relu activation function\n",
    "        alpha=0.01\n",
    "        hidden1=tf.maximum(alpha*hidden1, hidden1)\n",
    "\n",
    "        hidden2=tf.layers.dense(inputs=hidden1, units=128)\n",
    "        hidden2=tf.maximum(alpha*hidden2, hidden2)\n",
    "\n",
    "        output=tf.layers.dense(inputs=hidden2, units=784, activation=tf.nn.tanh) #784 because it need to generate an image\n",
    "\n",
    "        return output\n",
    "    \n",
    "    \n",
    "    "
   ]
  },
  {
   "cell_type": "markdown",
   "metadata": {},
   "source": [
    "### Discriminator network"
   ]
  },
  {
   "cell_type": "code",
   "execution_count": 6,
   "metadata": {},
   "outputs": [],
   "source": [
    "def discriminator(X, reuse=None):              # Here, X is the input\n",
    "\n",
    "    with tf.variable_scope('discriminator', reuse=tf.AUTO_REUSE):\n",
    "        hidden1=tf.layers.dense(inputs=X, units=128)\n",
    "\n",
    "        # now applying leaky relu activation function\n",
    "        alpha=0.01\n",
    "        hidden1=tf.maximum(alpha*hidden1, hidden1)\n",
    "\n",
    "        hidden2=tf.layers.dense(inputs=hidden1, units=128)\n",
    "        hidden2=tf.maximum(alpha*hidden2, hidden2)\n",
    "\n",
    "        logits=tf.layers.dense(hidden2, units=1)\n",
    "        output=tf.sigmoid(logits)\n",
    "        return output, logits"
   ]
  },
  {
   "cell_type": "markdown",
   "metadata": {},
   "source": [
    "### Defining placeholders"
   ]
  },
  {
   "cell_type": "code",
   "execution_count": 7,
   "metadata": {},
   "outputs": [],
   "source": [
    "# placeholder for real input images\n",
    "real_images=tf.placeholder(tf.float32, shape=[None, 784])\n",
    "\n",
    "#placeholder for random noise for generator \n",
    "z=tf.placeholder(tf.float32, shape=[None, 100])          #generating a vector of 100 random points\n"
   ]
  },
  {
   "cell_type": "code",
   "execution_count": 8,
   "metadata": {},
   "outputs": [],
   "source": [
    "G=generator(z)"
   ]
  },
  {
   "cell_type": "code",
   "execution_count": 9,
   "metadata": {},
   "outputs": [],
   "source": [
    "D_output_real, D_logits_real=discriminator(real_images)"
   ]
  },
  {
   "cell_type": "code",
   "execution_count": 10,
   "metadata": {},
   "outputs": [],
   "source": [
    "D_output_fake, D_logits_fake=discriminator(G, reuse=True)"
   ]
  },
  {
   "cell_type": "code",
   "execution_count": 11,
   "metadata": {},
   "outputs": [],
   "source": [
    "#LOSSES Function\n",
    "\n",
    "def loss_func(logits_in, labels_in):\n",
    "    return tf.reduce_mean(tf.nn.sigmoid_cross_entropy_with_logits(logits=logits_in, labels=labels_in))\n",
    "\n",
    "    "
   ]
  },
  {
   "cell_type": "code",
   "execution_count": 12,
   "metadata": {},
   "outputs": [],
   "source": [
    "#here, we defines the discriminator losses\n",
    "\n",
    "D_real_loss=loss_func(D_logits_real,tf.ones_like(D_logits_real)*0.9 )  #0.9 factor has been taken to msmoothen the image\n",
    "D_fake_loss=loss_func(D_logits_fake,tf.ones_like(D_logits_real) ) #here in the labels, it can be D_logits_fake as well\n"
   ]
  },
  {
   "cell_type": "code",
   "execution_count": 13,
   "metadata": {},
   "outputs": [],
   "source": [
    "D_loss=D_real_loss+D_fake_loss"
   ]
  },
  {
   "cell_type": "code",
   "execution_count": 14,
   "metadata": {},
   "outputs": [],
   "source": [
    "#now, we define the generator loss\n",
    "\n",
    "G_loss=loss_func(D_logits_fake,tf.ones_like(D_logits_fake))"
   ]
  },
  {
   "cell_type": "code",
   "execution_count": 15,
   "metadata": {},
   "outputs": [],
   "source": [
    "#now, we define the learning rate\n",
    "\n",
    "alpha=0.001"
   ]
  },
  {
   "cell_type": "code",
   "execution_count": 24,
   "metadata": {},
   "outputs": [
    {
     "data": {
      "text/plain": [
       "[<tf.Variable 'discriminator/dense/kernel:0' shape=(784, 128) dtype=float32_ref>,\n",
       " <tf.Variable 'discriminator/dense/bias:0' shape=(128,) dtype=float32_ref>,\n",
       " <tf.Variable 'discriminator/dense_1/kernel:0' shape=(128, 128) dtype=float32_ref>,\n",
       " <tf.Variable 'discriminator/dense_1/bias:0' shape=(128,) dtype=float32_ref>,\n",
       " <tf.Variable 'discriminator/dense_2/kernel:0' shape=(128, 1) dtype=float32_ref>,\n",
       " <tf.Variable 'discriminator/dense_2/bias:0' shape=(1,) dtype=float32_ref>]"
      ]
     },
     "execution_count": 24,
     "metadata": {},
     "output_type": "execute_result"
    }
   ],
   "source": [
    "#now defining the optimizers\n",
    "#one for the discriminator, one for the generator\n",
    "\n",
    "tvars=tf.trainable_variables()\n",
    "\n",
    "\n",
    "#this syntax is for creating a list\n",
    "d_vars=[var for var in tvars if 'discriminator' in var.name ]\n",
    "\n",
    "g_vars=[var for var in tvars if 'generator' in var.name ]\n",
    "\n"
   ]
  },
  {
   "cell_type": "code",
   "execution_count": 21,
   "metadata": {},
   "outputs": [],
   "source": [
    "D_trainer=tf.train.AdamOptimizer(alpha).minimize(D_loss, var_list=d_vars)\n",
    "    "
   ]
  },
  {
   "cell_type": "code",
   "execution_count": 40,
   "metadata": {},
   "outputs": [],
   "source": [
    "G_trainer=tf.train.AdamOptimizer(alpha).minimize(G_loss, var_list=g_vars)"
   ]
  },
  {
   "cell_type": "code",
   "execution_count": 44,
   "metadata": {},
   "outputs": [],
   "source": [
    "#now creating the session\n",
    "\n",
    "batch_size=100\n",
    "epochs=100\n",
    "\n",
    "init=tf.global_variables_initializer()\n"
   ]
  },
  {
   "cell_type": "code",
   "execution_count": 45,
   "metadata": {},
   "outputs": [],
   "source": [
    "samples=[]"
   ]
  },
  {
   "cell_type": "code",
   "execution_count": 46,
   "metadata": {},
   "outputs": [
    {
     "name": "stdout",
     "output_type": "stream",
     "text": [
      "ON EPOCH 0\n",
      "ON EPOCH 1\n",
      "ON EPOCH 2\n",
      "ON EPOCH 3\n",
      "ON EPOCH 4\n",
      "ON EPOCH 5\n",
      "ON EPOCH 6\n",
      "ON EPOCH 7\n",
      "ON EPOCH 8\n",
      "ON EPOCH 9\n",
      "ON EPOCH 10\n",
      "ON EPOCH 11\n",
      "ON EPOCH 12\n",
      "ON EPOCH 13\n",
      "ON EPOCH 14\n",
      "ON EPOCH 15\n",
      "ON EPOCH 16\n",
      "ON EPOCH 17\n",
      "ON EPOCH 18\n",
      "ON EPOCH 19\n",
      "ON EPOCH 20\n",
      "ON EPOCH 21\n",
      "ON EPOCH 22\n",
      "ON EPOCH 23\n",
      "ON EPOCH 24\n",
      "ON EPOCH 25\n",
      "ON EPOCH 26\n",
      "ON EPOCH 27\n",
      "ON EPOCH 28\n",
      "ON EPOCH 29\n",
      "ON EPOCH 30\n",
      "ON EPOCH 31\n",
      "ON EPOCH 32\n",
      "ON EPOCH 33\n",
      "ON EPOCH 34\n",
      "ON EPOCH 35\n",
      "ON EPOCH 36\n",
      "ON EPOCH 37\n",
      "ON EPOCH 38\n",
      "ON EPOCH 39\n",
      "ON EPOCH 40\n",
      "ON EPOCH 41\n",
      "ON EPOCH 42\n",
      "ON EPOCH 43\n",
      "ON EPOCH 44\n",
      "ON EPOCH 45\n",
      "ON EPOCH 46\n",
      "ON EPOCH 47\n",
      "ON EPOCH 48\n",
      "ON EPOCH 49\n",
      "ON EPOCH 50\n",
      "ON EPOCH 51\n",
      "ON EPOCH 52\n",
      "ON EPOCH 53\n",
      "ON EPOCH 54\n",
      "ON EPOCH 55\n",
      "ON EPOCH 56\n",
      "ON EPOCH 57\n",
      "ON EPOCH 58\n",
      "ON EPOCH 59\n",
      "ON EPOCH 60\n",
      "ON EPOCH 61\n",
      "ON EPOCH 62\n",
      "ON EPOCH 63\n",
      "ON EPOCH 64\n",
      "ON EPOCH 65\n",
      "ON EPOCH 66\n",
      "ON EPOCH 67\n",
      "ON EPOCH 68\n",
      "ON EPOCH 69\n",
      "ON EPOCH 70\n",
      "ON EPOCH 71\n",
      "ON EPOCH 72\n",
      "ON EPOCH 73\n",
      "ON EPOCH 74\n",
      "ON EPOCH 75\n",
      "ON EPOCH 76\n",
      "ON EPOCH 77\n",
      "ON EPOCH 78\n",
      "ON EPOCH 79\n",
      "ON EPOCH 80\n",
      "ON EPOCH 81\n",
      "ON EPOCH 82\n",
      "ON EPOCH 83\n",
      "ON EPOCH 84\n",
      "ON EPOCH 85\n",
      "ON EPOCH 86\n",
      "ON EPOCH 87\n",
      "ON EPOCH 88\n",
      "ON EPOCH 89\n",
      "ON EPOCH 90\n",
      "ON EPOCH 91\n",
      "ON EPOCH 92\n",
      "ON EPOCH 93\n",
      "ON EPOCH 94\n",
      "ON EPOCH 95\n",
      "ON EPOCH 96\n",
      "ON EPOCH 97\n",
      "ON EPOCH 98\n",
      "ON EPOCH 99\n"
     ]
    }
   ],
   "source": [
    "with tf.Session() as sess:\n",
    "    sess.run(init)\n",
    "    \n",
    "    for epoch in range(epochs):\n",
    "        \n",
    "        num_batches=mnist.train.num_examples//batch_size\n",
    "        \n",
    "        for i in range(num_batches):\n",
    "            batch=mnist.train.next_batch(batch_size)\n",
    "            \n",
    "            batch_images=batch[0].reshape((batch_size,784))      #reshaping all the images\n",
    "            \n",
    "            batch_images=batch_images*2-1\n",
    "            \n",
    "            batch_z=np.random.uniform(-1,1,size=(batch_size,100))\n",
    "            \n",
    "            _=sess.run(D_trainer, feed_dict={real_images:batch_images, z:batch_z})\n",
    "            \n",
    "            _=sess.run(G_trainer, feed_dict={z:batch_z})\n",
    "            \n",
    "        print(\"ON EPOCH {}\".format(epoch))\n",
    "        \n",
    "        sample_z=np.random.uniform(-1,1,size=(1,100))\n",
    "        gen_sample=sess.run(generator(z, reuse=True), feed_dict={z:sample_z})\n",
    "        \n",
    "        samples.append(gen_sample)\n",
    "        \n",
    "            \n",
    "            \n",
    "            "
   ]
  },
  {
   "cell_type": "code",
   "execution_count": 54,
   "metadata": {},
   "outputs": [
    {
     "data": {
      "text/plain": [
       "<matplotlib.image.AxesImage at 0x7f2a9d4151d0>"
      ]
     },
     "execution_count": 54,
     "metadata": {},
     "output_type": "execute_result"
    },
    {
     "data": {
      "image/png": "[encoded data removed]",
      "text/plain": [
       "<Figure size 432x288 with 1 Axes>"
      ]
     },
     "metadata": {
      "needs_background": "light"
     },
     "output_type": "display_data"
    }
   ],
   "source": [
    "plt.imshow(samples[99].reshape(28,28))"
   ]
  }
 ],
 "metadata": {
  "kernelspec": {
   "display_name": "Python 3",
   "language": "python",
   "name": "python3"
  },
  "language_info": {
   "codemirror_mode": {
    "name": "ipython",
    "version": 3
   },
   "file_extension": ".py",
   "mimetype": "text/x-python",
   "name": "python",
   "nbconvert_exporter": "python",
   "pygments_lexer": "ipython3",
   "version": "3.5.2"
  }
 },
 "nbformat": 4,
 "nbformat_minor": 2
}
