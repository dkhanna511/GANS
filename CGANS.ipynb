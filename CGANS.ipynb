{
 "cells": [
  {
   "cell_type": "code",
   "execution_count": 4,
   "metadata": {},
   "outputs": [],
   "source": [
    "import os, time, itertools, pickle\n",
    "import numpy as np\n",
    "import matplotlib.pyplot as plt\n",
    "import tensorflow as tf\n",
    "from tensorflow.examples.tutorials.mnist import input_data"
   ]
  },
  {
   "cell_type": "code",
   "execution_count": 42,
   "metadata": {},
   "outputs": [],
   "source": [
    "def leaky_relu(x, th = 0.2):\n",
    "    return tf.maximum(th*x, x)\n",
    "\n",
    "\n",
    "def generator(x, y, istrain = True, reuse = tf.AUTO_REUSE):\n",
    "    \n",
    "    with tf.variable_scope('generator', reuse = reuse):\n",
    "        w_init = tf.contrib.layers.xavier_initializer()\n",
    "        g_input = tf.concat([x, y], 1)\n",
    "        \n",
    "        fc1 = tf.nn.relu(tf.layers.dense(g_input, 128, kernel_initializer = w_init))\n",
    "        fc2 = tf.layers.dense(fc1, 784, kernel_initializer = w_init)\n",
    "        generated_outputs = tf.nn.tanh(fc2)\n",
    "        \n",
    "        return generated_outputs\n",
    "    \n",
    "def discriminator(x, y, isTrain = True, reuse  = tf.AUTO_REUSE):\n",
    "    w_init = tf.contrib.layers.xavier_initializer()\n",
    "    \n",
    "    d_input = tf.concat([x, y], 1)\n",
    "    \n",
    "    fc1 =leaky_relu(tf.layers.dense(d_input, 128, kernel_initializer = w_init))\n",
    "    fc2 = tf.layers.dense(fc1, 1, kernel_initializer = w_init)\n",
    "    discriminator_outputs = tf.nn.sigmoid(fc2)\n",
    "    \n",
    "    return discriminator_outputs, fc2"
   ]
  },
  {
   "cell_type": "code",
   "execution_count": 43,
   "metadata": {},
   "outputs": [],
   "source": [
    "x  = tf.placeholder(tf.float32, shape = (None, 784))\n",
    "y  = tf.placeholder(tf.float32, shape = (None, 10))\n",
    "z  = tf.placeholder(tf.float32, shape = (None, 100))\n",
    "isTrain = tf.placeholder(dtype=tf.bool)"
   ]
  },
  {
   "cell_type": "code",
   "execution_count": 44,
   "metadata": {},
   "outputs": [
    {
     "name": "stdout",
     "output_type": "stream",
     "text": [
      "Extracting MNIST_data/train-images-idx3-ubyte.gz\n",
      "Extracting MNIST_data/train-labels-idx1-ubyte.gz\n",
      "Extracting MNIST_data/t10k-images-idx3-ubyte.gz\n",
      "Extracting MNIST_data/t10k-labels-idx1-ubyte.gz\n",
      "(55000, 784)\n",
      "55000\n",
      "55000\n"
     ]
    }
   ],
   "source": [
    "batch_size = 100\n",
    "leraning_rate = 0.002\n",
    "epochs = 100\n",
    "\n",
    "mnist = input_data.read_data_sets(\"MNIST_data/\", one_hot  = True)\n",
    "train_set = (mnist.train.images  - 0.5) / 0.5\n",
    "print(np.shape(train_set))\n",
    "print(len(train_set))\n",
    "\n",
    "train_labels = mnist.train.labels\n",
    "print(len(train_labels))"
   ]
  },
  {
   "cell_type": "code",
   "execution_count": 46,
   "metadata": {},
   "outputs": [],
   "source": [
    "G_z = generator(z, y, isTrain)\n",
    "D_real, D_real_logits = discriminator(x, y, isTrain)\n",
    "D_fake, D_fake_logits = discriminator(G_z, y, isTrain, reuse = True)\n",
    "\n",
    "D_loss_real = tf.reduce_mean(tf.nn.sigmoid_cross_entropy_with_logits(logits = D_real_logits,  \n",
    "                                                                     labels = tf.ones([batch_size, 1])))\n",
    "\n",
    "D_loss_fake = tf.reduce_mean(tf.nn.sigmoid_cross_entropy_with_logits(logits = D_fake_logits,  \n",
    "                                                                     labels = tf.zeros([batch_size, 1])))\n",
    "\n",
    "G_loss = tf.reduce_mean(tf.nn.sigmoid_cross_entropy_with_logits(logits = D_fake_logits,  \n",
    "                                                                     labels = tf.ones([batch_size, 1])))\n",
    "\n",
    "D_loss = D_loss_real + D_loss_fake\n"
   ]
  },
  {
   "cell_type": "code",
   "execution_count": 47,
   "metadata": {},
   "outputs": [],
   "source": [
    "sess  = tf.InteractiveSession()\n",
    "tf.global_variables_initializer().run()"
   ]
  },
  {
   "cell_type": "code",
   "execution_count": 50,
   "metadata": {},
   "outputs": [
    {
     "ename": "TypeError",
     "evalue": "'int' object is not callable",
     "output_type": "error",
     "traceback": [
      "\u001b[0;31m---------------------------------------------------------------------------\u001b[0m",
      "\u001b[0;31mTypeError\u001b[0m                                 Traceback (most recent call last)",
      "\u001b[0;32m<ipython-input-50-9657c339a6ad>\u001b[0m in \u001b[0;36m<module>\u001b[0;34m\u001b[0m\n\u001b[1;32m      1\u001b[0m \u001b[0monehot\u001b[0m \u001b[0;34m=\u001b[0m \u001b[0mnp\u001b[0m\u001b[0;34m.\u001b[0m\u001b[0meye\u001b[0m\u001b[0;34m(\u001b[0m\u001b[0;36m10\u001b[0m\u001b[0;34m)\u001b[0m\u001b[0;34m\u001b[0m\u001b[0m\n\u001b[1;32m      2\u001b[0m \u001b[0;34m\u001b[0m\u001b[0m\n\u001b[0;32m----> 3\u001b[0;31m \u001b[0mfixed_z_\u001b[0m \u001b[0;34m=\u001b[0m \u001b[0mnp\u001b[0m\u001b[0;34m.\u001b[0m\u001b[0mrandom\u001b[0m\u001b[0;34m.\u001b[0m\u001b[0mnormal\u001b[0m\u001b[0;34m(\u001b[0m\u001b[0;36m0\u001b[0m\u001b[0;34m,\u001b[0m\u001b[0;36m1\u001b[0m \u001b[0;34m(\u001b[0m\u001b[0;36m25\u001b[0m\u001b[0;34m,\u001b[0m \u001b[0;36m100\u001b[0m\u001b[0;34m)\u001b[0m\u001b[0;34m)\u001b[0m\u001b[0;34m\u001b[0m\u001b[0m\n\u001b[0m\u001b[1;32m      4\u001b[0m \u001b[0mfixed_y_\u001b[0m \u001b[0;34m=\u001b[0m \u001b[0mnp\u001b[0m\u001b[0;34m.\u001b[0m\u001b[0mrandom\u001b[0m\u001b[0;34m.\u001b[0m\u001b[0mrandint\u001b[0m\u001b[0;34m(\u001b[0m\u001b[0;36m0\u001b[0m\u001b[0;34m,\u001b[0m \u001b[0;36m9\u001b[0m\u001b[0;34m,\u001b[0m \u001b[0;34m(\u001b[0m\u001b[0;36m25\u001b[0m\u001b[0;34m,\u001b[0m \u001b[0;36m1\u001b[0m\u001b[0;34m)\u001b[0m\u001b[0;34m)\u001b[0m\u001b[0;34m\u001b[0m\u001b[0m\n\u001b[1;32m      5\u001b[0m \u001b[0mfixed_y_\u001b[0m \u001b[0;34m=\u001b[0m \u001b[0monehot\u001b[0m\u001b[0;34m[\u001b[0m\u001b[0mfixed_y_\u001b[0m\u001b[0;34m.\u001b[0m\u001b[0mastype\u001b[0m\u001b[0;34m(\u001b[0m\u001b[0mnp\u001b[0m\u001b[0;34m.\u001b[0m\u001b[0mint32\u001b[0m\u001b[0;34m)\u001b[0m\u001b[0;34m]\u001b[0m\u001b[0;34m.\u001b[0m\u001b[0msqueeze\u001b[0m\u001b[0;34m(\u001b[0m\u001b[0;34m)\u001b[0m\u001b[0;34m\u001b[0m\u001b[0m\n",
      "\u001b[0;31mTypeError\u001b[0m: 'int' object is not callable"
     ]
    }
   ],
   "source": [
    "onehot = np.eye(10)\n",
    "\n",
    "fixed_z_ = np.random.normal(0,1 (25, 100))\n",
    "fixed_y_ = np.random.randint(0, 9, (25, 1))\n",
    "fixed_y_ = onehot[fixed_y_.astype(np.int32)].squeeze()\n",
    "\n",
    "def show_result(num_epoch):\n",
    "    test_images = plt.subplots(size_figure_grid, size_figure_grid, figsize = (5,1))\n",
    "    \n",
    "    for i, j in itertools.product(range(size_figure_grid), range(size_figure_grid)):\n",
    "        ax[i, j].get_xaxis().set_visible(False)\n",
    "        ax[i, j].get_yaxis().set_visible(False)\n",
    "        \n",
    "        for k in range(size_figure_grid*size_figure_grid):\n",
    "            i = k //size_figure_grid\n",
    "            j = k % size_figure_grid\n",
    "            ax[i, j].cla()\n",
    "            ax[i,j].imshow(np.reshape(test_images[k], (28, 28)),cmap = 'gray')\n",
    "            \n",
    "        label = 'Epoch {0}'.format(num_epoch)\n",
    "        fig.text(0.5, 0.04, label, ha = 'center')\n",
    "        \n",
    "        plt.show()"
   ]
  },
  {
   "cell_type": "code",
   "execution_count": null,
   "metadata": {},
   "outputs": [],
   "source": []
  },
  {
   "cell_type": "code",
   "execution_count": null,
   "metadata": {},
   "outputs": [],
   "source": []
  },
  {
   "cell_type": "code",
   "execution_count": null,
   "metadata": {},
   "outputs": [],
   "source": [
    "x, y, "
   ]
  }
 ],
 "metadata": {
  "kernelspec": {
   "display_name": "Python 3",
   "language": "python",
   "name": "python3"
  },
  "language_info": {
   "codemirror_mode": {
    "name": "ipython",
    "version": 3
   },
   "file_extension": ".py",
   "mimetype": "text/x-python",
   "name": "python",
   "nbconvert_exporter": "python",
   "pygments_lexer": "ipython3",
   "version": "3.5.2"
  }
 },
 "nbformat": 4,
 "nbformat_minor": 2
}
